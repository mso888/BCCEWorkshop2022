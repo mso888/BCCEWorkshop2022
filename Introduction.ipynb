{
 "cells": [
  {
   "cell_type": "markdown",
   "id": "c03611fa",
   "metadata": {},
   "source": [
    "# Python Data and Scripting Workshop with MolSSI\n",
    "## Introduction Lesson on Python Syntax\n",
    "This lesson covers the basics of Python syntax and data structures. \n",
    "August 1, 2022"
   ]
  },
  {
   "cell_type": "code",
   "execution_count": 1,
   "id": "a0e8bdbd",
   "metadata": {},
   "outputs": [
    {
     "data": {
      "text/plain": [
       "10"
      ]
     },
     "execution_count": 1,
     "metadata": {},
     "output_type": "execute_result"
    }
   ],
   "source": [
    "7+3"
   ]
  },
  {
   "cell_type": "code",
   "execution_count": 6,
   "id": "646f2ffd",
   "metadata": {},
   "outputs": [
    {
     "name": "stdout",
     "output_type": "stream",
     "text": [
      "-3640.7000000000003\n"
     ]
    }
   ],
   "source": [
    "deltaH = -541.5 #kJ/mole\n",
    "deltaS = 10.4 #kJ/mole K\n",
    "temperature = 298 #K\n",
    "deltaG = deltaH - temperature*(deltaS) #kJ/mole\n",
    "print(deltaG)"
   ]
  },
  {
   "cell_type": "code",
   "execution_count": 7,
   "id": "774a0e2e",
   "metadata": {},
   "outputs": [
    {
     "name": "stdout",
     "output_type": "stream",
     "text": [
      "-3640.7000000000003 kcal/mole\n"
     ]
    }
   ],
   "source": [
    "print(deltaG, 'kcal/mole')"
   ]
  },
  {
   "cell_type": "code",
   "execution_count": 8,
   "id": "8a3a7fa0",
   "metadata": {},
   "outputs": [
    {
     "name": "stdout",
     "output_type": "stream",
     "text": [
      "The value of deltaG is -3640.7000000000003 kcal/mole .\n"
     ]
    }
   ],
   "source": [
    "print('The value of deltaG is', deltaG, 'kcal/mole', '.')"
   ]
  },
  {
   "cell_type": "code",
   "execution_count": 13,
   "id": "601f79f1",
   "metadata": {},
   "outputs": [
    {
     "name": "stdout",
     "output_type": "stream",
     "text": [
      "The value of Gibbs free energy is -3640.700 in kcal/mole.\n"
     ]
    }
   ],
   "source": [
    "print(F'The value of Gibbs free energy is {deltaG:.3f} in kcal/mole.')"
   ]
  },
  {
   "cell_type": "code",
   "execution_count": 14,
   "id": "c7e978af",
   "metadata": {},
   "outputs": [
    {
     "name": "stdout",
     "output_type": "stream",
     "text": [
      "-3640.7000000000003\n"
     ]
    }
   ],
   "source": [
    "print(deltaG)"
   ]
  },
  {
   "cell_type": "code",
   "execution_count": 15,
   "id": "f046d1cb",
   "metadata": {},
   "outputs": [
    {
     "name": "stdout",
     "output_type": "stream",
     "text": [
      "-3640.7000000000003\n"
     ]
    }
   ],
   "source": [
    "deltaG*1000\n",
    "print(deltaG)"
   ]
  },
  {
   "cell_type": "code",
   "execution_count": 16,
   "id": "a1e763bb",
   "metadata": {},
   "outputs": [
    {
     "name": "stdout",
     "output_type": "stream",
     "text": [
      "-3640.7000000000003\n",
      "-3640700.0000000005\n"
     ]
    }
   ],
   "source": [
    "deltaG_joules = deltaG*1000\n",
    "print(deltaG)\n",
    "print(deltaG_joules)"
   ]
  },
  {
   "cell_type": "code",
   "execution_count": 23,
   "id": "853f89f2",
   "metadata": {},
   "outputs": [
    {
     "name": "stdout",
     "output_type": "stream",
     "text": [
      "-3641\n"
     ]
    }
   ],
   "source": [
    "print(F'{deltaG:.0f}')"
   ]
  },
  {
   "cell_type": "markdown",
   "id": "6b93ecd5",
   "metadata": {},
   "source": [
    "## Data Types\n",
    "The three data types we will use the most are integers (int), decimal numbers (float), or words (str)."
   ]
  },
  {
   "cell_type": "code",
   "execution_count": 24,
   "id": "76c88890",
   "metadata": {},
   "outputs": [
    {
     "data": {
      "text/plain": [
       "float"
      ]
     },
     "execution_count": 24,
     "metadata": {},
     "output_type": "execute_result"
    }
   ],
   "source": [
    "type(deltaG)"
   ]
  },
  {
   "cell_type": "code",
   "execution_count": 27,
   "id": "5b2881e6",
   "metadata": {},
   "outputs": [
    {
     "name": "stdout",
     "output_type": "stream",
     "text": [
      "-3640.7000000000003\n"
     ]
    }
   ],
   "source": [
    "deltaG_string = str(deltaG)\n",
    "print(deltaG_string)"
   ]
  },
  {
   "cell_type": "code",
   "execution_count": 30,
   "id": "4bf3ee01",
   "metadata": {},
   "outputs": [
    {
     "data": {
      "text/plain": [
       "str"
      ]
     },
     "execution_count": 30,
     "metadata": {},
     "output_type": "execute_result"
    }
   ],
   "source": [
    "deltaG + 10\n",
    "type(deltaG)\n",
    "type(deltaG_string)"
   ]
  },
  {
   "cell_type": "markdown",
   "id": "d14e85c5",
   "metadata": {},
   "source": [
    "## List"
   ]
  },
  {
   "cell_type": "code",
   "execution_count": 31,
   "id": "fe54e29e",
   "metadata": {},
   "outputs": [
    {
     "name": "stdout",
     "output_type": "stream",
     "text": [
      "42.1\n"
     ]
    }
   ],
   "source": [
    "energy_kcal = [-13.4, -2.7, 5.4, 42.1]\n",
    "print(energy_kcal[3])"
   ]
  },
  {
   "cell_type": "code",
   "execution_count": 39,
   "id": "bd1449bd",
   "metadata": {},
   "outputs": [
    {
     "data": {
      "text/plain": [
       "42.1"
      ]
     },
     "execution_count": 39,
     "metadata": {},
     "output_type": "execute_result"
    }
   ],
   "source": [
    "energy_kcal[0]\n",
    "energy_kcal[-1]"
   ]
  },
  {
   "cell_type": "code",
   "execution_count": 40,
   "id": "5a7cab4c",
   "metadata": {},
   "outputs": [
    {
     "name": "stdout",
     "output_type": "stream",
     "text": [
      "4\n"
     ]
    }
   ],
   "source": [
    "list_length = len(energy_kcal)\n",
    "print(list_length)"
   ]
  },
  {
   "cell_type": "code",
   "execution_count": 43,
   "id": "4a008993",
   "metadata": {},
   "outputs": [
    {
     "name": "stdout",
     "output_type": "stream",
     "text": [
      "[-13.4, -2.7]\n"
     ]
    }
   ],
   "source": [
    "# Slicing syntax in Python\n",
    "# new_list = list_name{start:end}\n",
    "short_list = energy_kcal[0:2]\n",
    "print (short_list)"
   ]
  },
  {
   "cell_type": "code",
   "execution_count": 49,
   "id": "abbeacc6",
   "metadata": {},
   "outputs": [
    {
     "name": "stdout",
     "output_type": "stream",
     "text": [
      "The list for slice 1 is [-2.7, 5.4, 42.1].\n"
     ]
    }
   ],
   "source": [
    "slice1 = energy_kcal[1:]\n",
    "slice2 = energy_kcal[:3]\n",
    "print(F'The list for slice 1 is {slice1}.')"
   ]
  },
  {
   "cell_type": "code",
   "execution_count": 50,
   "id": "ca92de34",
   "metadata": {},
   "outputs": [
    {
     "name": "stdout",
     "output_type": "stream",
     "text": [
      "The list for slice 2 is [-13.4, -2.7, 5.4].\n"
     ]
    }
   ],
   "source": [
    "print(F'The list for slice 2 is {slice2}.')"
   ]
  },
  {
   "cell_type": "code",
   "execution_count": 51,
   "id": "055caa7e",
   "metadata": {},
   "outputs": [
    {
     "data": {
      "text/plain": [
       "176.1043"
      ]
     },
     "execution_count": 51,
     "metadata": {},
     "output_type": "execute_result"
    }
   ],
   "source": [
    "energy_kcal[3]*4.183"
   ]
  },
  {
   "cell_type": "code",
   "execution_count": 52,
   "id": "10313e7b",
   "metadata": {},
   "outputs": [
    {
     "name": "stdout",
     "output_type": "stream",
     "text": [
      "-13.4\n",
      "-2.7\n",
      "5.4\n",
      "42.1\n"
     ]
    }
   ],
   "source": [
    "# for loop syntax\n",
    "# for variable in list:\n",
    "    # do things using variable\n",
    "for value in energy_kcal:\n",
    "        print(value)\n",
    "        "
   ]
  },
  {
   "cell_type": "code",
   "execution_count": 53,
   "id": "0bc11c1d",
   "metadata": {},
   "outputs": [
    {
     "name": "stdout",
     "output_type": "stream",
     "text": [
      "-56.0656\n",
      "-11.296800000000001\n",
      "22.593600000000002\n",
      "176.1464\n"
     ]
    }
   ],
   "source": [
    "for value in energy_kcal:\n",
    "        kJ = value*4.184\n",
    "        print(kJ)"
   ]
  },
  {
   "cell_type": "code",
   "execution_count": 59,
   "id": "ed8ba4d6",
   "metadata": {},
   "outputs": [
    {
     "name": "stdout",
     "output_type": "stream",
     "text": [
      "[-56.0656, -11.296800000000001, 22.593600000000002, 176.1464]\n"
     ]
    }
   ],
   "source": [
    "# To add things to a list\n",
    "# list_name.append(new_thing)\n",
    "energy_kJ = []\n",
    "for value in energy_kcal:\n",
    "    kJ = value*4.184\n",
    "    energy_kJ.append(kJ)\n",
    "        \n",
    "print(energy_kJ)"
   ]
  },
  {
   "cell_type": "code",
   "execution_count": null,
   "id": "57b55675",
   "metadata": {},
   "outputs": [],
   "source": []
  }
 ],
 "metadata": {
  "kernelspec": {
   "display_name": "Python 3 (ipykernel)",
   "language": "python",
   "name": "python3"
  },
  "language_info": {
   "codemirror_mode": {
    "name": "ipython",
    "version": 3
   },
   "file_extension": ".py",
   "mimetype": "text/x-python",
   "name": "python",
   "nbconvert_exporter": "python",
   "pygments_lexer": "ipython3",
   "version": "3.9.7"
  }
 },
 "nbformat": 4,
 "nbformat_minor": 5
}
