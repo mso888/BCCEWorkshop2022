{
 "cells": [
  {
   "cell_type": "markdown",
   "id": "7f00c2f5",
   "metadata": {},
   "source": [
    "# Numpy Array"
   ]
  },
  {
   "cell_type": "code",
   "execution_count": 1,
   "id": "8dddb49a",
   "metadata": {},
   "outputs": [],
   "source": [
    "import numpy as np"
   ]
  },
  {
   "cell_type": "code",
   "execution_count": 3,
   "id": "40c07947",
   "metadata": {},
   "outputs": [
    {
     "name": "stdout",
     "output_type": "stream",
     "text": [
      "[0.0, -0.2, 1.4, 0.0, 0.1, -0.3]\n"
     ]
    }
   ],
   "source": [
    "temp_O_coord = [0.0, -0.2, 1.4]\n",
    "translation_vector = [0.0, 0.1, -0.3]\n",
    "print(temp_O_coord + translation_vector)"
   ]
  },
  {
   "cell_type": "code",
   "execution_count": 11,
   "id": "dfb886f8",
   "metadata": {},
   "outputs": [
    {
     "name": "stdout",
     "output_type": "stream",
     "text": [
      "<class 'list'>\n",
      "<class 'numpy.ndarray'>\n"
     ]
    }
   ],
   "source": [
    "O_coord = np.array(temp_O_coord)\n",
    "print(type(temp_O_coord))\n",
    "print(type(O_coord))"
   ]
  },
  {
   "cell_type": "code",
   "execution_count": 12,
   "id": "ad5a3d32",
   "metadata": {},
   "outputs": [
    {
     "name": "stdout",
     "output_type": "stream",
     "text": [
      "[ 0.  -0.1  1.1]\n"
     ]
    }
   ],
   "source": [
    "print(O_coord + translation_vector)"
   ]
  },
  {
   "cell_type": "code",
   "execution_count": 13,
   "id": "404c369a",
   "metadata": {},
   "outputs": [
    {
     "name": "stdout",
     "output_type": "stream",
     "text": [
      "[ 0.     -0.1058  0.7406]\n"
     ]
    }
   ],
   "source": [
    "print(O_coord*0.529)"
   ]
  },
  {
   "cell_type": "code",
   "execution_count": 14,
   "id": "f998da71",
   "metadata": {},
   "outputs": [],
   "source": [
    "a = np.array([1.0, 2.0, 3.0])\n",
    "b = np.array([4.0, 5.0, 6.0])"
   ]
  },
  {
   "cell_type": "code",
   "execution_count": 15,
   "id": "99369772",
   "metadata": {},
   "outputs": [
    {
     "name": "stdout",
     "output_type": "stream",
     "text": [
      "[3. 3. 3.]\n",
      "[1. 4. 9.]\n",
      "6.0 15.0\n",
      "[1.         1.41421356 1.73205081] 2.0\n"
     ]
    }
   ],
   "source": [
    "print(b-a)\n",
    "print(a**2)\n",
    "print(np.sum(a),np.sum(b))\n",
    "print(np.sqrt(a),np.sqrt(4.0))"
   ]
  },
  {
   "cell_type": "code",
   "execution_count": 16,
   "id": "396a8aeb",
   "metadata": {},
   "outputs": [],
   "source": [
    "H_coord = np.array([0.0,0.6,0.9])"
   ]
  },
  {
   "cell_type": "code",
   "execution_count": 20,
   "id": "c71d9c6c",
   "metadata": {},
   "outputs": [
    {
     "name": "stdout",
     "output_type": "stream",
     "text": [
      "The bond length of O-H is 0.9433981132056604 in Angstroms.\n"
     ]
    }
   ],
   "source": [
    "dist = np.sqrt(np.sum((O_coord - H_coord)**2))\n",
    "print(F'The bond length of O-H is {dist} in Angstroms.')"
   ]
  },
  {
   "cell_type": "code",
   "execution_count": null,
   "id": "6e31274f",
   "metadata": {},
   "outputs": [],
   "source": []
  }
 ],
 "metadata": {
  "kernelspec": {
   "display_name": "Python 3 (ipykernel)",
   "language": "python",
   "name": "python3"
  },
  "language_info": {
   "codemirror_mode": {
    "name": "ipython",
    "version": 3
   },
   "file_extension": ".py",
   "mimetype": "text/x-python",
   "name": "python",
   "nbconvert_exporter": "python",
   "pygments_lexer": "ipython3",
   "version": "3.9.7"
  }
 },
 "nbformat": 4,
 "nbformat_minor": 5
}
