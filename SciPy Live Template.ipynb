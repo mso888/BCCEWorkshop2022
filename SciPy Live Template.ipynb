{
 "cells": [
  {
   "cell_type": "code",
   "execution_count": 9,
   "id": "73985f55",
   "metadata": {},
   "outputs": [],
   "source": [
    "# import appropriate phython modules / functions\n",
    "import numpy as np\n",
    "import matplotlib.pyplot as plt\n",
    "from scipy.optimize import curve_fit"
   ]
  },
  {
   "cell_type": "code",
   "execution_count": 12,
   "id": "81477f22",
   "metadata": {},
   "outputs": [],
   "source": [
    "# import data as a list\n",
    "xdata = [-5.0, -4.0, -3.0, -2.0, -1.0, 0.0, 1.0, 2.0, 3.0, 4.0, 5.0]\n",
    "ydata = [11.7, 13.5, 14.5, 15.7, 16.1, 16.6, 16.0, 15.4, 14.4, 14.2, 12.7]"
   ]
  },
  {
   "cell_type": "code",
   "execution_count": 17,
   "id": "e60b0692",
   "metadata": {},
   "outputs": [
    {
     "data": {
      "text/plain": [
       "[<matplotlib.lines.Line2D at 0x7fbc4bf17850>]"
      ]
     },
     "execution_count": 17,
     "metadata": {},
     "output_type": "execute_result"
    },
    {
     "data": {
      "image/png": "[encoded data removed]",
      "text/plain": [
       "<Figure size 432x288 with 1 Axes>"
      ]
     },
     "metadata": {
      "needs_background": "light"
     },
     "output_type": "display_data"
    }
   ],
   "source": [
    "# Recast xdata and ydata into numpy arrags so we can use their handy features\n",
    "xdata = np.asarray(xdata)\n",
    "ydata = np.asarray(ydata)\n",
    "plt.plot(xdata, ydata, 'x')"
   ]
  },
  {
   "cell_type": "code",
   "execution_count": 18,
   "id": "6efa74f7",
   "metadata": {},
   "outputs": [],
   "source": [
    "# The data looks like they can perhaps we described well by a Gaussian or by a cosine.\n",
    "# Gaussian: y = A*exp(-B*x^2)\n",
    "# Cosine: y = D*cos(E*x)"
   ]
  },
  {
   "cell_type": "markdown",
   "id": "d318ee84",
   "metadata": {},
   "source": [
    "# The Gaussian fit"
   ]
  },
  {
   "cell_type": "code",
   "execution_count": 21,
   "id": "447de67a",
   "metadata": {},
   "outputs": [],
   "source": [
    "# Define the Gaussian function.\n",
    "def Gauss(x,A,B):\n",
    "    y = A*np.exp(-1*B*x**2)\n",
    "    return y"
   ]
  },
  {
   "cell_type": "code",
   "execution_count": 24,
   "id": "1a17f78e",
   "metadata": {},
   "outputs": [
    {
     "name": "stdout",
     "output_type": "stream",
     "text": [
      "16.29760311243372\n",
      "0.011369839501050175\n"
     ]
    },
    {
     "name": "stderr",
     "output_type": "stream",
     "text": [
      "/tmp/ipykernel_272/2173342942.py:3: RuntimeWarning: overflow encountered in exp\n",
      "  y = A*np.exp(-1*B*x**2)\n"
     ]
    }
   ],
   "source": [
    "# The curve fit function will return the parameters and covariance.\n",
    "parameters, covariance = curve_fit(Gauss,xdata,ydata)\n",
    "#help(curve_fit)\n",
    "fit_A = parameters[0]\n",
    "fit_B = parameters[1]\n",
    "\n",
    "print(fit_A)\n",
    "print(fit_B)"
   ]
  },
  {
   "cell_type": "code",
   "execution_count": 29,
   "id": "508bbb6b",
   "metadata": {},
   "outputs": [
    {
     "data": {
      "text/plain": [
       "<matplotlib.legend.Legend at 0x7fbc4b0bbf40>"
      ]
     },
     "execution_count": 29,
     "metadata": {},
     "output_type": "execute_result"
    },
    {
     "data": {
      "image/png": "[encoded data removed]",
      "text/plain": [
       "<Figure size 432x288 with 1 Axes>"
      ]
     },
     "metadata": {
      "needs_background": "light"
     },
     "output_type": "display_data"
    }
   ],
   "source": [
    "# Display the fit model alongside the data (no covariance or error yet!)\n",
    "fit_y = Gauss(xdata, fit_A, fit_B)\n",
    "plt.plot(xdata,ydata,'o', label='data')\n",
    "plt.plot(xdata,fit_y,'-', label='fit')\n",
    "plt.legend()"
   ]
  },
  {
   "cell_type": "code",
   "execution_count": 30,
   "id": "f9670c1b",
   "metadata": {},
   "outputs": [
    {
     "name": "stdout",
     "output_type": "stream",
     "text": [
      "The value of A is 16.29760 with the standard error of 0.17277\n",
      "The value of B is 0.01137 with the standard error of 0.00090\n"
     ]
    }
   ],
   "source": [
    "# THe standard error is the square root of the diagonal of the covariance matrix.\n",
    "# The standard error is a list with A in SE[0] and B in SE[1]\n",
    "SE = np.sqrt(np.diag(covariance))\n",
    "SE_A = SE[0]\n",
    "SE_B = SE[1]\n",
    "\n",
    "print(F'The value of A is {fit_A:.5f} with the standard error of {SE_A:.5f}')\n",
    "print(F'The value of B is {fit_B:.5f} with the standard error of {SE_B:.5f}')"
   ]
  },
  {
   "cell_type": "markdown",
   "id": "c1c1438f",
   "metadata": {},
   "source": [
    "# The Cosine Fit"
   ]
  },
  {
   "cell_type": "code",
   "execution_count": 33,
   "id": "b882dfc7",
   "metadata": {},
   "outputs": [
    {
     "name": "stdout",
     "output_type": "stream",
     "text": [
      "-2.565671481620384\n",
      "2.021158502201535\n"
     ]
    },
    {
     "data": {
      "text/plain": [
       "<matplotlib.legend.Legend at 0x7fbc4b0225b0>"
      ]
     },
     "execution_count": 33,
     "metadata": {},
     "output_type": "execute_result"
    },
    {
     "data": {
      "image/png": "[encoded data removed]",
      "text/plain": [
       "<Figure size 432x288 with 1 Axes>"
      ]
     },
     "metadata": {
      "needs_background": "light"
     },
     "output_type": "display_data"
    }
   ],
   "source": [
    "# Our first attempt, following what did above with Gaussian\n",
    "def cos_func(x,D,E):\n",
    "    y = D*np.cos(-1*E*x)\n",
    "    return y\n",
    "\n",
    "parameters, covariance = curve_fit(cos_func,xdata,ydata)\n",
    "fit_D = parameters[0]\n",
    "fit_E = parameters[1]\n",
    "\n",
    "print(fit_D)\n",
    "print(fit_E)\n",
    "\n",
    "fit_y = cos_func(xdata, fit_D, fit_E)\n",
    "plt.plot(xdata,ydata,'o', label='data')\n",
    "plt.plot(xdata,fit_y,'-', label='fit')\n",
    "plt.legend()"
   ]
  },
  {
   "cell_type": "code",
   "execution_count": 34,
   "id": "e3d21719",
   "metadata": {},
   "outputs": [
    {
     "name": "stdout",
     "output_type": "stream",
     "text": [
      "-2.565671481620384\n",
      "2.021158502201535\n"
     ]
    },
    {
     "data": {
      "text/plain": [
       "<matplotlib.legend.Legend at 0x7fbc4af93550>"
      ]
     },
     "execution_count": 34,
     "metadata": {},
     "output_type": "execute_result"
    },
    {
     "data": {
      "image/png": "[encoded data removed]",
      "text/plain": [
       "<Figure size 432x288 with 1 Axes>"
      ]
     },
     "metadata": {
      "needs_background": "light"
     },
     "output_type": "display_data"
    }
   ],
   "source": [
    "# We optimized the fit but apparently had a poor starting point.\n",
    "# We see that the height (D) of the wave is about 16.\n",
    "# We see that the frequency (D) of the wave is about 0.1 of a wave from 0 to 2/pi\n",
    "# These approximate parameters can be utilized as a guess\n",
    "\n",
    "guess = [16,0.1]\n",
    "parameters, covariance = curve_fit(cos_func,xdata,ydata)\n",
    "fit_D = parameters[0]\n",
    "fit_E = parameters[1]\n",
    "\n",
    "print(fit_D)\n",
    "print(fit_E)\n",
    "\n",
    "fit_y = cos_func(xdata, fit_D, fit_E)\n",
    "plt.plot(xdata,ydata,'o', label='data')\n",
    "plt.plot(xdata,fit_y,'-', label='fit')\n",
    "plt.legend()"
   ]
  },
  {
   "cell_type": "code",
   "execution_count": null,
   "id": "6501ff31",
   "metadata": {},
   "outputs": [],
   "source": [
    "# Let's "
   ]
  }
 ],
 "metadata": {
  "kernelspec": {
   "display_name": "Python 3 (ipykernel)",
   "language": "python",
   "name": "python3"
  },
  "language_info": {
   "codemirror_mode": {
    "name": "ipython",
    "version": 3
   },
   "file_extension": ".py",
   "mimetype": "text/x-python",
   "name": "python",
   "nbconvert_exporter": "python",
   "pygments_lexer": "ipython3",
   "version": "3.9.7"
  }
 },
 "nbformat": 4,
 "nbformat_minor": 5
}
